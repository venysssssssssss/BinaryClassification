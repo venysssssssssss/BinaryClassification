{
 "cells": [
  {
   "cell_type": "code",
   "execution_count": 11,
   "metadata": {},
   "outputs": [
    {
     "name": "stdout",
     "output_type": "stream",
     "text": [
      "Ran the import statements.\n"
     ]
    }
   ],
   "source": [
    "import numpy as np\n",
    "import pandas as pd\n",
    "import tensorflow as tf\n",
    "from tensorflow.keras import layers\n",
    "from matplotlib import pyplot as plt\n",
    "\n",
    "# The following lines adjust the granularity of reporting.\n",
    "pd.options.display.max_rows = 10\n",
    "pd.options.display.float_format = \"{:.1f}\".format\n",
    "# tf.keras.backend.set_floatx('float32')\n",
    "\n",
    "print(\"Ran the import statements.\")"
   ]
  },
  {
   "cell_type": "code",
   "execution_count": 12,
   "metadata": {},
   "outputs": [],
   "source": [
    "train_df = pd.read_csv(\"https://download.mlcc.google.com/mledu-datasets/california_housing_train.csv\")\n",
    "test_df = pd.read_csv(\"https://download.mlcc.google.com/mledu-datasets/california_housing_test.csv\")\n",
    "train_df = train_df.reindex(np.random.permutation(train_df.index)) # shuffle the training set"
   ]
  },
  {
   "cell_type": "code",
   "execution_count": 13,
   "metadata": {},
   "outputs": [],
   "source": [
    "#Normalize values\n",
    "#The mean is 60.\n",
    "#The standard deviation is 10.\n",
    "\n",
    "#The raw value 75 would have a Z-score of +1.5:\n",
    "\n",
    "  #Z-score = (75 - 60) / 10 = +1.5\n",
    "\n",
    "#The raw value 38 would have a Z-score of -2.2:\n",
    "\n",
    "  #Z-score = (38 - 60) / 10 = -2.2"
   ]
  },
  {
   "cell_type": "code",
   "execution_count": 14,
   "metadata": {},
   "outputs": [
    {
     "data": {
      "text/html": [
       "<div>\n",
       "<style scoped>\n",
       "    .dataframe tbody tr th:only-of-type {\n",
       "        vertical-align: middle;\n",
       "    }\n",
       "\n",
       "    .dataframe tbody tr th {\n",
       "        vertical-align: top;\n",
       "    }\n",
       "\n",
       "    .dataframe thead th {\n",
       "        text-align: right;\n",
       "    }\n",
       "</style>\n",
       "<table border=\"1\" class=\"dataframe\">\n",
       "  <thead>\n",
       "    <tr style=\"text-align: right;\">\n",
       "      <th></th>\n",
       "      <th>longitude</th>\n",
       "      <th>latitude</th>\n",
       "      <th>housing_median_age</th>\n",
       "      <th>total_rooms</th>\n",
       "      <th>total_bedrooms</th>\n",
       "      <th>population</th>\n",
       "      <th>households</th>\n",
       "      <th>median_income</th>\n",
       "      <th>median_house_value</th>\n",
       "    </tr>\n",
       "  </thead>\n",
       "  <tbody>\n",
       "    <tr>\n",
       "      <th>11248</th>\n",
       "      <td>-0.8</td>\n",
       "      <td>2.2</td>\n",
       "      <td>-1.1</td>\n",
       "      <td>-0.4</td>\n",
       "      <td>-0.5</td>\n",
       "      <td>-0.8</td>\n",
       "      <td>-0.8</td>\n",
       "      <td>-0.1</td>\n",
       "      <td>-0.8</td>\n",
       "    </tr>\n",
       "    <tr>\n",
       "      <th>2854</th>\n",
       "      <td>0.9</td>\n",
       "      <td>-1.0</td>\n",
       "      <td>-1.9</td>\n",
       "      <td>0.9</td>\n",
       "      <td>0.6</td>\n",
       "      <td>-0.2</td>\n",
       "      <td>0.3</td>\n",
       "      <td>1.2</td>\n",
       "      <td>0.8</td>\n",
       "    </tr>\n",
       "    <tr>\n",
       "      <th>346</th>\n",
       "      <td>1.3</td>\n",
       "      <td>-0.9</td>\n",
       "      <td>-1.1</td>\n",
       "      <td>-0.9</td>\n",
       "      <td>-0.9</td>\n",
       "      <td>-1.0</td>\n",
       "      <td>-1.1</td>\n",
       "      <td>-0.9</td>\n",
       "      <td>-1.0</td>\n",
       "    </tr>\n",
       "    <tr>\n",
       "      <th>1489</th>\n",
       "      <td>1.2</td>\n",
       "      <td>-1.1</td>\n",
       "      <td>-1.2</td>\n",
       "      <td>1.3</td>\n",
       "      <td>0.7</td>\n",
       "      <td>0.8</td>\n",
       "      <td>0.8</td>\n",
       "      <td>0.6</td>\n",
       "      <td>0.7</td>\n",
       "    </tr>\n",
       "    <tr>\n",
       "      <th>3271</th>\n",
       "      <td>0.8</td>\n",
       "      <td>-0.9</td>\n",
       "      <td>0.7</td>\n",
       "      <td>-0.6</td>\n",
       "      <td>-0.3</td>\n",
       "      <td>0.6</td>\n",
       "      <td>-0.3</td>\n",
       "      <td>-0.2</td>\n",
       "      <td>-0.5</td>\n",
       "    </tr>\n",
       "  </tbody>\n",
       "</table>\n",
       "</div>"
      ],
      "text/plain": [
       "       longitude  latitude  housing_median_age  total_rooms  total_bedrooms  \\\n",
       "11248       -0.8       2.2                -1.1         -0.4            -0.5   \n",
       "2854         0.9      -1.0                -1.9          0.9             0.6   \n",
       "346          1.3      -0.9                -1.1         -0.9            -0.9   \n",
       "1489         1.2      -1.1                -1.2          1.3             0.7   \n",
       "3271         0.8      -0.9                 0.7         -0.6            -0.3   \n",
       "\n",
       "       population  households  median_income  median_house_value  \n",
       "11248        -0.8        -0.8           -0.1                -0.8  \n",
       "2854         -0.2         0.3            1.2                 0.8  \n",
       "346          -1.0        -1.1           -0.9                -1.0  \n",
       "1489          0.8         0.8            0.6                 0.7  \n",
       "3271          0.6        -0.3           -0.2                -0.5  "
      ]
     },
     "execution_count": 14,
     "metadata": {},
     "output_type": "execute_result"
    }
   ],
   "source": [
    "# Calculate the Z-scores of each column in the training set and\n",
    "# write those Z-scores into a new pandas DataFrame named train_df_norm.\n",
    "train_df_mean = train_df.mean()\n",
    "train_df_std = train_df.std()\n",
    "train_df_norm = (train_df - train_df_mean)/train_df_std\n",
    "\n",
    "# Examine some of the values of the normalized training set. Notice that most \n",
    "# Z-scores fall between -2 and +2.\n",
    "train_df_norm.head()"
   ]
  },
  {
   "cell_type": "code",
   "execution_count": 15,
   "metadata": {},
   "outputs": [],
   "source": [
    "# Calculate the Z-scores of each column in the test set and\n",
    "# write those Z-scores into a new pandas DataFrame named test_df_norm.\n",
    "test_df_mean = test_df.mean()\n",
    "test_df_std  = test_df.std()\n",
    "test_df_norm = (test_df - test_df_mean)/test_df_std"
   ]
  },
  {
   "cell_type": "code",
   "execution_count": 16,
   "metadata": {},
   "outputs": [
    {
     "data": {
      "text/plain": [
       "11248   0.0\n",
       "2854    1.0\n",
       "346     0.0\n",
       "1489    1.0\n",
       "3271    0.0\n",
       "         ..\n",
       "4457    1.0\n",
       "11257   0.0\n",
       "2744    0.0\n",
       "16449   1.0\n",
       "15566   0.0\n",
       "Name: median_house_value_is_high, Length: 8000, dtype: float64"
      ]
     },
     "execution_count": 16,
     "metadata": {},
     "output_type": "execute_result"
    }
   ],
   "source": [
    "#@title Double-click for possible solutions.\n",
    "\n",
    "# We arbitrarily set the threshold to 265,000, which is \n",
    "# the 75th percentile for median house values.  Every neighborhood\n",
    "# with a median house price above 265,000 will be labeled 1, \n",
    "# and all other neighborhoods will be labeled 0.\n",
    "threshold = 265000\n",
    "train_df_norm[\"median_house_value_is_high\"] = (train_df[\"median_house_value\"] > threshold).astype(float)\n",
    "test_df_norm[\"median_house_value_is_high\"] = (test_df[\"median_house_value\"] > threshold).astype(float) \n",
    "train_df_norm[\"median_house_value_is_high\"].head(8000)\n",
    "\n",
    "\n",
    "# Alternatively, instead of picking the threshold\n",
    "# based on raw house values, you can work with Z-scores.\n",
    "# For example, the following possible solution uses a Z-score\n",
    "# of +1.0 as the threshold, meaning that no more\n",
    "# than 16% of the values in median_house_value_is_high\n",
    "# will be labeled 1.\n",
    "\n",
    "# threshold_in_Z = 1.0 \n",
    "# train_df_norm[\"median_house_value_is_high\"] = (train_df_norm[\"median_house_value\"] > threshold_in_Z).astype(float)\n",
    "# test_df_norm[\"median_house_value_is_high\"] = (test_df_norm[\"median_house_value\"] > threshold_in_Z).astype(float) "
   ]
  },
  {
   "cell_type": "code",
   "execution_count": 17,
   "metadata": {},
   "outputs": [],
   "source": [
    "inputs = {\n",
    "# Features used to train the model on.\n",
    "  'median_income': tf.keras.Input(shape=(1,)),\n",
    "  'total_rooms': tf.keras.Input(shape=(1,))\n",
    "}\n"
   ]
  },
  {
   "cell_type": "code",
   "execution_count": 18,
   "metadata": {},
   "outputs": [
    {
     "name": "stdout",
     "output_type": "stream",
     "text": [
      "Defined the create_model and train_model functions.\n"
     ]
    }
   ],
   "source": [
    "def create_model(my_inputs, my_learning_rate, METRICS):\n",
    "  # Use a Concatenate layer to concatenate the input layers into a single tensor.\n",
    "  # as input for the Dense layer. Ex: [input_1[0][0], input_2[0][0]]\n",
    "  concatenated_inputs = tf.keras.layers.Concatenate()(my_inputs.values())\n",
    "  dense = layers.Dense(units=1, input_shape=(1,),name='dense_layer', activation=tf.sigmoid)\n",
    "  dense_output = dense(concatenated_inputs)\n",
    "  \"\"\"Create and compile a simple classification model.\"\"\"\n",
    "  my_outputs = {\n",
    "    'dense': dense_output,\n",
    "  }\n",
    "  model = tf.keras.Model(inputs=my_inputs, outputs=my_outputs)\n",
    "\n",
    "  # Call the compile method to construct the layers into a model that\n",
    "  # TensorFlow can execute.  Notice that we're using a different loss\n",
    "  # function for classification than for regression.    \n",
    "  model.compile(optimizer=tf.keras.optimizers.experimental.RMSprop(learning_rate=my_learning_rate),                                                   \n",
    "                loss=tf.keras.losses.BinaryCrossentropy(),\n",
    "                metrics=METRICS)\n",
    "  return model        \n",
    "\n",
    "\n",
    "def train_model(model, dataset, epochs, label_name,\n",
    "                batch_size=None, shuffle=True):\n",
    "  \"\"\"Feed a dataset into the model in order to train it.\"\"\"\n",
    "\n",
    "  # The x parameter of tf.keras.Model.fit can be a list of arrays, where\n",
    "  # each array contains the data for one feature.  Here, we're passing\n",
    "  # every column in the dataset. Note that the feature_layer will filter\n",
    "  # away most of those columns, leaving only the desired columns and their\n",
    "  # representations as features.\n",
    "  features = {name:np.array(value) for name, value in dataset.items()}\n",
    "  label = np.array(features.pop(label_name)) \n",
    "  history = model.fit(x=features, y=label, batch_size=batch_size,\n",
    "                      epochs=epochs, shuffle=shuffle)\n",
    "  \n",
    "  # The list of epochs is stored separately from the rest of history.\n",
    "  epochs = history.epoch\n",
    "\n",
    "  # Isolate the classification metric for each epoch.\n",
    "  hist = pd.DataFrame(history.history)\n",
    "\n",
    "  return epochs, hist  \n",
    "\n",
    "print(\"Defined the create_model and train_model functions.\")   "
   ]
  },
  {
   "cell_type": "code",
   "execution_count": 19,
   "metadata": {},
   "outputs": [
    {
     "name": "stdout",
     "output_type": "stream",
     "text": [
      "Defined the plot_curve function.\n"
     ]
    }
   ],
   "source": [
    "def plot_curve(epochs, hist, list_of_metrics):\n",
    "  \"\"\"Plot a curve of one or more classification metrics vs. epoch.\"\"\"  \n",
    "  # list_of_metrics should be one of the names shown in:\n",
    "  # https://www.tensorflow.org/tutorials/structured_data/imbalanced_data#define_the_model_and_metrics  \n",
    "\n",
    "  plt.figure()\n",
    "  plt.xlabel(\"Epoch\")\n",
    "  plt.ylabel(\"Value\")\n",
    "\n",
    "  for m in list_of_metrics:\n",
    "    x = hist[m]\n",
    "    plt.plot(epochs[1:], x[1:], label=m)\n",
    "\n",
    "  plt.legend()\n",
    "\n",
    "print(\"Defined the plot_curve function.\")"
   ]
  },
  {
   "cell_type": "code",
   "execution_count": 20,
   "metadata": {},
   "outputs": [
    {
     "name": "stdout",
     "output_type": "stream",
     "text": [
      "Epoch 1/20\n"
     ]
    },
    {
     "name": "stderr",
     "output_type": "stream",
     "text": [
      "/home/venys/.local/lib/python3.10/site-packages/keras/engine/functional.py:639: UserWarning: Input dict contained keys ['longitude', 'latitude', 'housing_median_age', 'total_bedrooms', 'population', 'households', 'median_house_value'] which did not match any model input. They will be ignored by the model.\n",
      "  inputs = self._flatten_to_reference_inputs(inputs)\n"
     ]
    },
    {
     "name": "stdout",
     "output_type": "stream",
     "text": [
      "170/170 [==============================] - 1s 2ms/step - loss: 0.7104 - accuracy: 0.3972\n",
      "Epoch 2/20\n",
      "170/170 [==============================] - 0s 2ms/step - loss: 0.6241 - accuracy: 0.4831\n",
      "Epoch 3/20\n",
      "170/170 [==============================] - 0s 2ms/step - loss: 0.5552 - accuracy: 0.5891\n",
      "Epoch 4/20\n",
      "170/170 [==============================] - 0s 2ms/step - loss: 0.5020 - accuracy: 0.6719\n",
      "Epoch 5/20\n",
      "170/170 [==============================] - 0s 2ms/step - loss: 0.4629 - accuracy: 0.7225\n",
      "Epoch 6/20\n",
      "170/170 [==============================] - 0s 2ms/step - loss: 0.4358 - accuracy: 0.7548\n",
      "Epoch 7/20\n",
      "170/170 [==============================] - 0s 2ms/step - loss: 0.4174 - accuracy: 0.7773\n",
      "Epoch 8/20\n",
      "170/170 [==============================] - 0s 2ms/step - loss: 0.4064 - accuracy: 0.7912\n",
      "Epoch 9/20\n",
      "170/170 [==============================] - 0s 2ms/step - loss: 0.4007 - accuracy: 0.7985\n",
      "Epoch 10/20\n",
      "170/170 [==============================] - 0s 2ms/step - loss: 0.3981 - accuracy: 0.8051\n",
      "Epoch 11/20\n",
      "170/170 [==============================] - 0s 2ms/step - loss: 0.3971 - accuracy: 0.8076\n",
      "Epoch 12/20\n",
      "170/170 [==============================] - 0s 2ms/step - loss: 0.3968 - accuracy: 0.8072\n",
      "Epoch 13/20\n",
      "170/170 [==============================] - 0s 2ms/step - loss: 0.3967 - accuracy: 0.8083\n",
      "Epoch 14/20\n",
      "170/170 [==============================] - 0s 2ms/step - loss: 0.3966 - accuracy: 0.8081\n",
      "Epoch 15/20\n",
      "170/170 [==============================] - 0s 2ms/step - loss: 0.3966 - accuracy: 0.8082\n",
      "Epoch 16/20\n",
      "170/170 [==============================] - 0s 2ms/step - loss: 0.3966 - accuracy: 0.8091\n",
      "Epoch 17/20\n",
      "170/170 [==============================] - 0s 2ms/step - loss: 0.3966 - accuracy: 0.8088\n",
      "Epoch 18/20\n",
      "170/170 [==============================] - 0s 2ms/step - loss: 0.3966 - accuracy: 0.8095\n",
      "Epoch 19/20\n",
      "170/170 [==============================] - 0s 2ms/step - loss: 0.3966 - accuracy: 0.8088\n",
      "Epoch 20/20\n",
      "170/170 [==============================] - 0s 2ms/step - loss: 0.3966 - accuracy: 0.8088\n"
     ]
    },
    {
     "data": {
      "image/png": "[encoded data removed]",
      "text/plain": [
       "<Figure size 640x480 with 1 Axes>"
      ]
     },
     "metadata": {},
     "output_type": "display_data"
    }
   ],
   "source": [
    "# The following variables are the hyperparameters.\n",
    "learning_rate = 0.001\n",
    "epochs = 20\n",
    "batch_size = 100\n",
    "label_name = \"median_house_value_is_high\"\n",
    "classification_threshold = 0.35\n",
    "\n",
    "# Establish the metrics the model will measure.\n",
    "METRICS = [\n",
    "           tf.keras.metrics.BinaryAccuracy(name='accuracy', \n",
    "                                           threshold=classification_threshold),\n",
    "          ]\n",
    "\n",
    "# Establish the model's topography.\n",
    "my_model = create_model(inputs, learning_rate, METRICS)\n",
    "\n",
    "# To view a PNG of this model's layers, uncomment the call to\n",
    "# `tf.keras.utils.plot_model` below. After running this code cell, click\n",
    "# the file folder on the left, then the `my_classification_model.png` file.\n",
    "# tf.keras.utils.plot_model(my_model, \"my_classification_model.png\")\n",
    "\n",
    "# Train the model on the training set.\n",
    "epochs, hist = train_model(my_model, train_df_norm, epochs, \n",
    "                           label_name, batch_size)\n",
    "\n",
    "# Plot a graph of the metric(s) vs. epochs.\n",
    "list_of_metrics_to_plot = ['accuracy'] \n",
    "\n",
    "plot_curve(epochs, hist, list_of_metrics_to_plot)"
   ]
  },
  {
   "cell_type": "code",
   "execution_count": 21,
   "metadata": {},
   "outputs": [
    {
     "name": "stdout",
     "output_type": "stream",
     "text": [
      "30/30 [==============================] - 0s 2ms/step - loss: 0.4069 - accuracy: 0.8013\n"
     ]
    },
    {
     "name": "stderr",
     "output_type": "stream",
     "text": [
      "/home/venys/.local/lib/python3.10/site-packages/keras/engine/functional.py:639: UserWarning: Input dict contained keys ['longitude', 'latitude', 'housing_median_age', 'total_bedrooms', 'population', 'households', 'median_house_value'] which did not match any model input. They will be ignored by the model.\n",
      "  inputs = self._flatten_to_reference_inputs(inputs)\n"
     ]
    },
    {
     "data": {
      "text/plain": [
       "[0.40689992904663086, 0.8013333082199097]"
      ]
     },
     "execution_count": 21,
     "metadata": {},
     "output_type": "execute_result"
    }
   ],
   "source": [
    "features = {name:np.array(value) for name, value in test_df_norm.items()}\n",
    "label = np.array(features.pop(label_name))\n",
    "\n",
    "my_model.evaluate(x = features, y = label, batch_size=batch_size)"
   ]
  },
  {
   "cell_type": "code",
   "execution_count": 22,
   "metadata": {},
   "outputs": [
    {
     "name": "stdout",
     "output_type": "stream",
     "text": [
      "Epoch 1/20\n",
      "170/170 [==============================] - 1s 2ms/step - loss: 0.6127 - accuracy: 0.3455 - precision: 0.2678 - recall: 0.9341\n",
      "Epoch 2/20\n",
      "170/170 [==============================] - 0s 2ms/step - loss: 0.5426 - accuracy: 0.5205 - precision: 0.3323 - recall: 0.9110\n",
      "Epoch 3/20\n",
      "170/170 [==============================] - 0s 2ms/step - loss: 0.4921 - accuracy: 0.6485 - precision: 0.4033 - recall: 0.8491\n",
      "Epoch 4/20\n",
      "170/170 [==============================] - 0s 2ms/step - loss: 0.4570 - accuracy: 0.7151 - precision: 0.4595 - recall: 0.7968\n",
      "Epoch 5/20\n",
      "170/170 [==============================] - 0s 2ms/step - loss: 0.4341 - accuracy: 0.7492 - precision: 0.4987 - recall: 0.7431\n",
      "Epoch 6/20\n",
      "170/170 [==============================] - 0s 2ms/step - loss: 0.4185 - accuracy: 0.7723 - precision: 0.5336 - recall: 0.7028\n",
      "Epoch 7/20\n",
      "170/170 [==============================] - 0s 2ms/step - loss: 0.4085 - accuracy: 0.7869 - precision: 0.5610 - recall: 0.6753\n",
      "Epoch 8/20\n",
      "170/170 [==============================] - 0s 2ms/step - loss: 0.4027 - accuracy: 0.7961 - precision: 0.5818 - recall: 0.6532\n",
      "Epoch 9/20\n",
      "170/170 [==============================] - 0s 2ms/step - loss: 0.3996 - accuracy: 0.8023 - precision: 0.5977 - recall: 0.6381\n",
      "Epoch 10/20\n",
      "170/170 [==============================] - 0s 2ms/step - loss: 0.3981 - accuracy: 0.8067 - precision: 0.6104 - recall: 0.6254\n",
      "Epoch 11/20\n",
      "170/170 [==============================] - 0s 2ms/step - loss: 0.3973 - accuracy: 0.8071 - precision: 0.6128 - recall: 0.6186\n",
      "Epoch 12/20\n",
      "170/170 [==============================] - 0s 2ms/step - loss: 0.3970 - accuracy: 0.8080 - precision: 0.6155 - recall: 0.6169\n",
      "Epoch 13/20\n",
      "170/170 [==============================] - 0s 2ms/step - loss: 0.3968 - accuracy: 0.8082 - precision: 0.6162 - recall: 0.6157\n",
      "Epoch 14/20\n",
      "170/170 [==============================] - 0s 2ms/step - loss: 0.3967 - accuracy: 0.8086 - precision: 0.6172 - recall: 0.6155\n",
      "Epoch 15/20\n",
      "170/170 [==============================] - 0s 2ms/step - loss: 0.3967 - accuracy: 0.8092 - precision: 0.6190 - recall: 0.6148\n",
      "Epoch 16/20\n",
      "170/170 [==============================] - 0s 2ms/step - loss: 0.3966 - accuracy: 0.8094 - precision: 0.6198 - recall: 0.6129\n",
      "Epoch 17/20\n",
      "170/170 [==============================] - 0s 2ms/step - loss: 0.3966 - accuracy: 0.8091 - precision: 0.6185 - recall: 0.6150\n",
      "Epoch 18/20\n",
      "170/170 [==============================] - 0s 2ms/step - loss: 0.3966 - accuracy: 0.8091 - precision: 0.6187 - recall: 0.6143\n",
      "Epoch 19/20\n",
      "170/170 [==============================] - 0s 2ms/step - loss: 0.3966 - accuracy: 0.8094 - precision: 0.6196 - recall: 0.6134\n",
      "Epoch 20/20\n",
      "170/170 [==============================] - 0s 2ms/step - loss: 0.3966 - accuracy: 0.8096 - precision: 0.6203 - recall: 0.6136\n"
     ]
    },
    {
     "data": {
      "image/png": "[encoded data removed]",
      "text/plain": [
       "<Figure size 640x480 with 1 Axes>"
      ]
     },
     "metadata": {},
     "output_type": "display_data"
    }
   ],
   "source": [
    "# The following variables are the hyperparameters.\n",
    "learning_rate = 0.001\n",
    "epochs = 20\n",
    "batch_size = 100\n",
    "classification_threshold = 0.35\n",
    "label_name = \"median_house_value_is_high\"\n",
    "\n",
    "# Here is the updated definition of METRICS:\n",
    "METRICS = [\n",
    "      tf.keras.metrics.BinaryAccuracy(name='accuracy', \n",
    "                                      threshold=classification_threshold),\n",
    "      tf.keras.metrics.Precision(thresholds=classification_threshold,\n",
    "                                 name='precision' \n",
    "                                 ),\n",
    "      tf.keras.metrics.Recall(thresholds=classification_threshold,\n",
    "                              name=\"recall\"),\n",
    "]\n",
    "\n",
    "# Establish the model's topography.\n",
    "my_model = create_model(inputs, learning_rate, METRICS)\n",
    "\n",
    "# Train the model on the training set.\n",
    "epochs, hist = train_model(my_model, train_df_norm, epochs, \n",
    "                           label_name, batch_size)\n",
    "\n",
    "# Plot metrics vs. epochs\n",
    "list_of_metrics_to_plot = ['accuracy', \"precision\", \"recall\"] \n",
    "plot_curve(epochs, hist, list_of_metrics_to_plot)\n",
    "\n",
    "\n",
    "# The new graphs suggest that precision and recall are \n",
    "# somewhat in conflict. That is, improvements to one of\n",
    "# those metrics may hurt the other metric."
   ]
  },
  {
   "cell_type": "code",
   "execution_count": 23,
   "metadata": {},
   "outputs": [
    {
     "name": "stdout",
     "output_type": "stream",
     "text": [
      "Epoch 1/20\n"
     ]
    },
    {
     "name": "stderr",
     "output_type": "stream",
     "text": [
      "/home/venys/.local/lib/python3.10/site-packages/keras/engine/functional.py:639: UserWarning: Input dict contained keys ['longitude', 'latitude', 'housing_median_age', 'total_bedrooms', 'population', 'households', 'median_house_value'] which did not match any model input. They will be ignored by the model.\n",
      "  inputs = self._flatten_to_reference_inputs(inputs)\n"
     ]
    },
    {
     "name": "stdout",
     "output_type": "stream",
     "text": [
      "170/170 [==============================] - 1s 2ms/step - loss: 0.9752 - accuracy: 0.4852 - precision: 0.1560 - recall: 0.2404\n",
      "Epoch 2/20\n",
      "170/170 [==============================] - 0s 2ms/step - loss: 0.8742 - accuracy: 0.5664 - precision: 0.1723 - recall: 0.1933\n",
      "Epoch 3/20\n",
      "170/170 [==============================] - 0s 2ms/step - loss: 0.7841 - accuracy: 0.6406 - precision: 0.2034 - recall: 0.1505\n",
      "Epoch 4/20\n",
      "170/170 [==============================] - 0s 2ms/step - loss: 0.7049 - accuracy: 0.6881 - precision: 0.2387 - recall: 0.1135\n",
      "Epoch 5/20\n",
      "170/170 [==============================] - 0s 2ms/step - loss: 0.6373 - accuracy: 0.7145 - precision: 0.2727 - recall: 0.0857\n",
      "Epoch 6/20\n",
      "170/170 [==============================] - 0s 2ms/step - loss: 0.5809 - accuracy: 0.7314 - precision: 0.3206 - recall: 0.0671\n",
      "Epoch 7/20\n",
      "170/170 [==============================] - 0s 2ms/step - loss: 0.5353 - accuracy: 0.7446 - precision: 0.4240 - recall: 0.0624\n",
      "Epoch 8/20\n",
      "170/170 [==============================] - 0s 2ms/step - loss: 0.4994 - accuracy: 0.7600 - precision: 0.6394 - recall: 0.0902\n",
      "Epoch 9/20\n",
      "170/170 [==============================] - 0s 2ms/step - loss: 0.4715 - accuracy: 0.7765 - precision: 0.8117 - recall: 0.1370\n",
      "Epoch 10/20\n",
      "170/170 [==============================] - 0s 2ms/step - loss: 0.4498 - accuracy: 0.7942 - precision: 0.8888 - recall: 0.2013\n",
      "Epoch 11/20\n",
      "170/170 [==============================] - 0s 2ms/step - loss: 0.4335 - accuracy: 0.8086 - precision: 0.9028 - recall: 0.2623\n",
      "Epoch 12/20\n",
      "170/170 [==============================] - 0s 2ms/step - loss: 0.4210 - accuracy: 0.8219 - precision: 0.8997 - recall: 0.3233\n",
      "Epoch 13/20\n",
      "170/170 [==============================] - 0s 2ms/step - loss: 0.4117 - accuracy: 0.8306 - precision: 0.8754 - recall: 0.3756\n",
      "Epoch 14/20\n",
      "170/170 [==============================] - 0s 2ms/step - loss: 0.4055 - accuracy: 0.8335 - precision: 0.8474 - recall: 0.4066\n",
      "Epoch 15/20\n",
      "170/170 [==============================] - 0s 2ms/step - loss: 0.4017 - accuracy: 0.8348 - precision: 0.8251 - recall: 0.4300\n",
      "Epoch 16/20\n",
      "170/170 [==============================] - 0s 2ms/step - loss: 0.3993 - accuracy: 0.8358 - precision: 0.8101 - recall: 0.4478\n",
      "Epoch 17/20\n",
      "170/170 [==============================] - 0s 2ms/step - loss: 0.3980 - accuracy: 0.8359 - precision: 0.8055 - recall: 0.4526\n",
      "Epoch 18/20\n",
      "170/170 [==============================] - 0s 2ms/step - loss: 0.3973 - accuracy: 0.8364 - precision: 0.7994 - recall: 0.4608\n",
      "Epoch 19/20\n",
      "170/170 [==============================] - 0s 2ms/step - loss: 0.3970 - accuracy: 0.8368 - precision: 0.7965 - recall: 0.4655\n",
      "Epoch 20/20\n",
      "170/170 [==============================] - 0s 2ms/step - loss: 0.3968 - accuracy: 0.8361 - precision: 0.7866 - recall: 0.4721\n"
     ]
    },
    {
     "data": {
      "image/png": "[encoded data removed]",
      "text/plain": [
       "<Figure size 640x480 with 1 Axes>"
      ]
     },
     "metadata": {},
     "output_type": "display_data"
    }
   ],
   "source": [
    "# The following variables are the hyperparameters.\n",
    "learning_rate = 0.001\n",
    "epochs = 20\n",
    "batch_size = 100\n",
    "classification_threshold = 0.52\n",
    "label_name = \"median_house_value_is_high\"\n",
    "\n",
    "# Here is the updated definition of METRICS:\n",
    "METRICS = [\n",
    "      tf.keras.metrics.BinaryAccuracy(name='accuracy', \n",
    "                                      threshold=classification_threshold),\n",
    "      tf.keras.metrics.Precision(thresholds=classification_threshold,\n",
    "                                 name='precision' \n",
    "                                 ),\n",
    "      tf.keras.metrics.Recall(thresholds=classification_threshold,\n",
    "                              name=\"recall\"),\n",
    "]\n",
    "\n",
    "# Establish the model's topography.\n",
    "my_model = create_model(inputs, learning_rate, METRICS)\n",
    "\n",
    "# Train the model on the training set.\n",
    "epochs, hist = train_model(my_model, train_df_norm, epochs, \n",
    "                           label_name, batch_size)\n",
    "\n",
    "# Plot metrics vs. epochs\n",
    "list_of_metrics_to_plot = ['accuracy', \"precision\", \"recall\"] \n",
    "plot_curve(epochs, hist, list_of_metrics_to_plot)\n",
    "\n",
    "# A `classification_threshold` of slightly over 0.5\n",
    "# appears to produce the highest accuracy (about 83%).\n",
    "# Raising the `classification_threshold` to 0.9 drops \n",
    "# accuracy by about 5%.  Lowering the \n",
    "# `classification_threshold` to 0.3 drops accuracy by \n",
    "# about 3%. "
   ]
  },
  {
   "cell_type": "code",
   "execution_count": 24,
   "metadata": {},
   "outputs": [
    {
     "name": "stdout",
     "output_type": "stream",
     "text": [
      "Epoch 1/20\n"
     ]
    },
    {
     "name": "stderr",
     "output_type": "stream",
     "text": [
      "/home/venys/.local/lib/python3.10/site-packages/keras/engine/functional.py:639: UserWarning: Input dict contained keys ['longitude', 'latitude', 'housing_median_age', 'total_bedrooms', 'population', 'households', 'median_house_value'] which did not match any model input. They will be ignored by the model.\n",
      "  inputs = self._flatten_to_reference_inputs(inputs)\n"
     ]
    },
    {
     "name": "stdout",
     "output_type": "stream",
     "text": [
      "170/170 [==============================] - 1s 2ms/step - loss: 0.6580 - auc: 0.6523\n",
      "Epoch 2/20\n",
      "170/170 [==============================] - 0s 2ms/step - loss: 0.5785 - auc: 0.7832\n",
      "Epoch 3/20\n",
      "170/170 [==============================] - 0s 2ms/step - loss: 0.5202 - auc: 0.8284\n",
      "Epoch 4/20\n",
      "170/170 [==============================] - 0s 2ms/step - loss: 0.4783 - auc: 0.8355\n",
      "Epoch 5/20\n",
      "170/170 [==============================] - 0s 2ms/step - loss: 0.4490 - auc: 0.8359\n",
      "Epoch 6/20\n",
      "170/170 [==============================] - 0s 2ms/step - loss: 0.4287 - auc: 0.8360\n",
      "Epoch 7/20\n",
      "170/170 [==============================] - 0s 2ms/step - loss: 0.4153 - auc: 0.8362\n",
      "Epoch 8/20\n",
      "170/170 [==============================] - 0s 2ms/step - loss: 0.4070 - auc: 0.8366\n",
      "Epoch 9/20\n",
      "170/170 [==============================] - 0s 2ms/step - loss: 0.4023 - auc: 0.8364\n",
      "Epoch 10/20\n",
      "170/170 [==============================] - 0s 2ms/step - loss: 0.3996 - auc: 0.8365\n",
      "Epoch 11/20\n",
      "170/170 [==============================] - 0s 2ms/step - loss: 0.3982 - auc: 0.8367\n",
      "Epoch 12/20\n",
      "170/170 [==============================] - 0s 2ms/step - loss: 0.3974 - auc: 0.8367\n",
      "Epoch 13/20\n",
      "170/170 [==============================] - 0s 2ms/step - loss: 0.3971 - auc: 0.8368\n",
      "Epoch 14/20\n",
      "170/170 [==============================] - 0s 2ms/step - loss: 0.3968 - auc: 0.8368\n",
      "Epoch 15/20\n",
      "170/170 [==============================] - 0s 2ms/step - loss: 0.3967 - auc: 0.8367\n",
      "Epoch 16/20\n",
      "170/170 [==============================] - 0s 2ms/step - loss: 0.3967 - auc: 0.8367\n",
      "Epoch 17/20\n",
      "170/170 [==============================] - 0s 2ms/step - loss: 0.3966 - auc: 0.8368\n",
      "Epoch 18/20\n",
      "170/170 [==============================] - 0s 2ms/step - loss: 0.3966 - auc: 0.8369\n",
      "Epoch 19/20\n",
      "170/170 [==============================] - 0s 2ms/step - loss: 0.3966 - auc: 0.8368\n",
      "Epoch 20/20\n",
      "170/170 [==============================] - 0s 2ms/step - loss: 0.3966 - auc: 0.8370\n"
     ]
    },
    {
     "data": {
      "image/png": "[encoded data removed]",
      "text/plain": [
       "<Figure size 640x480 with 1 Axes>"
      ]
     },
     "metadata": {},
     "output_type": "display_data"
    }
   ],
   "source": [
    "# The following variables are the hyperparameters.\n",
    "learning_rate = 0.001\n",
    "epochs = 20\n",
    "batch_size = 100\n",
    "label_name = \"median_house_value_is_high\"\n",
    "\n",
    "# AUC is a reasonable \"summary\" metric for \n",
    "# classification models.\n",
    "# Here is the updated definition of METRICS to \n",
    "# measure AUC:\n",
    "METRICS = [\n",
    "      tf.keras.metrics.AUC(num_thresholds=100, name='auc'),\n",
    "]\n",
    "\n",
    "# Establish the model's topography.\n",
    "my_model = create_model(inputs, learning_rate, METRICS)\n",
    "\n",
    "# Train the model on the training set.\n",
    "epochs, hist = train_model(my_model, train_df_norm, epochs, \n",
    "                           label_name, batch_size)\n",
    "\n",
    "# Plot metrics vs. epochs\n",
    "list_of_metrics_to_plot = ['auc'] \n",
    "plot_curve(epochs, hist, list_of_metrics_to_plot)"
   ]
  }
 ],
 "metadata": {
  "kernelspec": {
   "display_name": "Python 3",
   "language": "python",
   "name": "python3"
  },
  "language_info": {
   "codemirror_mode": {
    "name": "ipython",
    "version": 3
   },
   "file_extension": ".py",
   "mimetype": "text/x-python",
   "name": "python",
   "nbconvert_exporter": "python",
   "pygments_lexer": "ipython3",
   "version": "3.10.6"
  },
  "orig_nbformat": 4
 },
 "nbformat": 4,
 "nbformat_minor": 2
}
